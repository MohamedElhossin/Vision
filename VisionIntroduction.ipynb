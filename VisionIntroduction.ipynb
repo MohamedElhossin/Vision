{
  "nbformat": 4,
  "nbformat_minor": 0,
  "metadata": {
    "colab": {
      "name": "VisionIntroduction.ipynb",
      "provenance": [],
      "collapsed_sections": [],
      "authorship_tag": "ABX9TyNBubRhP81st+xM/m1QRslF",
      "include_colab_link": true
    },
    "kernelspec": {
      "name": "python3",
      "display_name": "Python 3"
    },
    "accelerator": "GPU"
  },
  "cells": [
    {
      "cell_type": "markdown",
      "metadata": {
        "id": "view-in-github",
        "colab_type": "text"
      },
      "source": [
        "<a href=\"https://colab.research.google.com/github/MohamedElhossin/Vision/blob/master/VisionIntroduction.ipynb\" target=\"_parent\"><img src=\"https://colab.research.google.com/assets/colab-badge.svg\" alt=\"Open In Colab\"/></a>"
      ]
    },
    {
      "cell_type": "markdown",
      "metadata": {
        "id": "IMwYJDBhLdQt",
        "colab_type": "text"
      },
      "source": [
        "# **This is a very simple explanation for a computer vision**"
      ]
    },
    {
      "cell_type": "markdown",
      "metadata": {
        "id": "Eh6IMik7SfD2",
        "colab_type": "text"
      },
      "source": [
        "## **How the computer sees the image**??"
      ]
    },
    {
      "cell_type": "markdown",
      "metadata": {
        "id": "ij2kJGOqNXZG",
        "colab_type": "text"
      },
      "source": [
        "\n",
        "> Our eyes provide us with a lot of information based on what they see and thanks to them, we know enough about everything that surrounds but it is different in the computer, the computer sees the image as a  matrix because a computer understands the numbers only. \n",
        "\n",
        "\n",
        "![](https://drive.google.com/uc?id=16dPqlmxedbBrx7r8N44WdMCRnogWJqX7)\n",
        "\n",
        "\n",
        "1.   the matrix size (m,n) represents the resolution of the image \n",
        "\n",
        "     ex: if image resolution(32*32) then the size of a matrix is (32,32) \n",
        "\n",
        "2.   each number in the matrix represents a pixel in the image.\n",
        "\n",
        "\n",
        "\n",
        "\n",
        "\n",
        "\n",
        "\n",
        "\n",
        "\n",
        "\n",
        "\n",
        "\n"
      ]
    },
    {
      "cell_type": "markdown",
      "metadata": {
        "id": "8pxY11EDSnNT",
        "colab_type": "text"
      },
      "source": [
        "## **The challenges which the computer faced  to match between two images**"
      ]
    },
    {
      "cell_type": "markdown",
      "metadata": {
        "id": "fkJAK9guTbx0",
        "colab_type": "text"
      },
      "source": [
        "### **1- Semantic gap**\n",
        "\n",
        "In fact, most problems in computer vision is to understand the content, especially for content-based image retrieval.\n",
        "\n",
        "The best example is zebra.\n",
        "\n",
        "Computer may recognise the black pixels and white pixels but do not           understand that the white pixels and black pixels are for the same thing (zebra)\n",
        "\n",
        "![](https://drive.google.com/uc?id=152X0DTiYLdOmxu20WP1T1BLYG6O0_J6L)\n",
        "\n",
        "\n",
        "### **2- Viewpoint Variation**\n",
        "\n",
        "This happens when the camera position change then the number in matrix change even the picture is the same .\n",
        "\n",
        "\n",
        "![](https://drive.google.com/uc?id=1ItnL82F6d-9m3T-bWnm_bFVr1iyhKl9J)\n",
        "\n",
        "\n",
        "\n",
        "### **3- Illumination**\n",
        "\n",
        "Illuminating a product to attain the best contrast available is important in machine vision applications: the higher the contrast, the greater the difference between the background and the features to be inspected. Using the correct wavelength of light, proper lighting configurations and appropriate filters can increase contrast and result in more efficient image processing and faster inspection speeds.\n",
        "\n",
        "![](https://drive.google.com/uc?id=1TVU9k9V5wq2Gi1c9HwgdNS6JFeRwZFr4)\n",
        "\n",
        "\n",
        "\n",
        "### **4- Deformation**\n",
        "\n",
        "The different positions of the object in the picture will cause some confusion to know it. \n",
        "\n",
        "![](https://drive.google.com/uc?id=1jUu3Z4wAP4tYa0vQLyEye3QtwgBksllI)\n",
        "\n",
        "\n",
        "### **5- occlusion**\n",
        "\n",
        "It happened due to hiding some parts of an object in a picture.  \n",
        "\n",
        "![](https://drive.google.com/uc?id=1bZLtkwnKPueXZKvr-gjaASCtjocB2j6_)\n",
        "\n",
        "\n",
        "\n",
        "---\n",
        "\n",
        "\n"
      ]
    },
    {
      "cell_type": "markdown",
      "metadata": {
        "id": "4p3HPqzFdbVs",
        "colab_type": "text"
      },
      "source": [
        "# **ًWhat computer vision need ??**\n",
        "\n"
      ]
    },
    {
      "cell_type": "markdown",
      "metadata": {
        "id": "8MxTcTyFjQ14",
        "colab_type": "text"
      },
      "source": [
        "![](https://drive.google.com/uc?id=1BqPltUQ-8EBgULh1_AJCMBqAyF2F4tri)"
      ]
    },
    {
      "cell_type": "markdown",
      "metadata": {
        "id": "IjQxNeQKjL7C",
        "colab_type": "text"
      },
      "source": [
        "# **What do we want from computer vision?**"
      ]
    },
    {
      "cell_type": "markdown",
      "metadata": {
        "id": "3AyP96Anj18p",
        "colab_type": "text"
      },
      "source": [
        "![](https://drive.google.com/uc?id=1AIp3na0mpTMZMO0_TPtT-yiMvOD_yCru)\n",
        "\n",
        "\n",
        "### **1- Classification**\n",
        "\n",
        "\n",
        "> Image classification refers to a process in computer vision that can classify an image according to its visual content. For example, an image classification algorithm may be designed to tell if an image contains a human figure or not. While detecting an object is trivial for humans, robust image classification is still a challenge in computer vision applications.\n",
        "[more information...](https://www.sciencedirect.com/topics/computer-science/image-classification)\n",
        "\n",
        "\n",
        "\n",
        "\n",
        "### **2- Classification + Localization**\n",
        "\n",
        "> Without any effort humman immediately figured out that there is a cat in this picture. But could a machine have done this? Yes super easily, you know this already! Convolutional Neural Networks or CNNs are amazing at such tasks. \n",
        "You just somehow know the boundaries of this cat. Can you think how will you teach a machine to do this? Can a machine learning algorithm learn to not just recognize and tell which objects are present in an image but also tell where they are in the image? This problem is called object classification and object localization. \n",
        "[more information...](https://medium.com/x8-the-ai-community/object-classification-detection-and-localization-72d51b0fd6bc)\n",
        "\n",
        "### **3- Object Detection**  \n",
        "\n",
        "\n",
        "> How much time have you spent looking for lost room keys in an untidy and messy house? It happens to the best of us and till date remains an incredibly frustrating experience. But what if a simple computer algorithm could locate your keys in a matter of milliseconds?\n",
        "That is the power of object detection algorithms. While this was a simple example, the applications of object detection span multiple and diverse industries, from round-the-clock surveillance to real-time vehicle detection in smart cities. In short, these are powerful deep learning algorithms\n",
        "[more information...](https://www.analyticsvidhya.com/blog/2018/10/a-step-by-step-introduction-to-the-basic-object-detection-algorithms-part-1/)\n",
        "\n",
        "\n",
        "### **4- Segmentation**\n",
        "\n",
        "\n",
        "> Another important subject within computer vision is image segmentation. It is the process of dividing an image into different regions based on the characteristics of pixels to identify objects or boundaries to simplify an image and more efficiently analyze it. Segmentation impacts a number of domains, from the filmmaking industry to the field of medicine. For instance, the software behind green screens implements image segmentation to crop out the foreground and place it on a background for scenes that cannot be shot or would be dangerous to shoot in real life. Image segmentation is also used to track objects in a sequence of images and to classify terrains, like petroleum reserves, in satellite images. Some medical applications of segmentation include the identification of injured muscle, the measurement of bone and tissue, and the detection of suspicious structures to aid radiologists\n",
        "[more information...](https://www.analyticsvidhya.com/blog/2019/04/introduction-image-segmentation-techniques-python/)\n",
        "\n",
        "\n",
        "\n",
        "\n",
        "\n",
        "\n"
      ]
    }
  ]
}